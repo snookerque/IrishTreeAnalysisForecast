{
 "cells": [
  {
   "cell_type": "code",
   "execution_count": 1,
   "id": "f259f9c6",
   "metadata": {},
   "outputs": [],
   "source": [
    "import pandas as pd\n",
    "import ee"
   ]
  },
  {
   "cell_type": "code",
   "execution_count": 2,
   "id": "32972cbc",
   "metadata": {},
   "outputs": [],
   "source": [
    "# Authenticate and initialize Google Earth Engine\n",
    "ee.Authenticate()\n",
    "ee.Initialize()"
   ]
  },
  {
   "cell_type": "code",
   "execution_count": 3,
   "id": "a70595ff",
   "metadata": {},
   "outputs": [
    {
     "name": "stderr",
     "output_type": "stream",
     "text": [
      "C:\\Users\\danfa\\anaconda3\\Lib\\site-packages\\ee\\deprecation.py:207: DeprecationWarning: \n",
      "\n",
      "Attention required for UMD/hansen/global_forest_change_2022_v1_10! You are using a deprecated asset.\n",
      "To ensure continued functionality, please update it.\n",
      "Learn more: https://developers.google.com/earth-engine/datasets/catalog/UMD_hansen_global_forest_change_2022_v1_10\n",
      "\n",
      "  warnings.warn(warning, category=DeprecationWarning)\n"
     ]
    }
   ],
   "source": [
    "#Load Global Forest Change dataset\n",
    "gfc_dataset = ee.Image('UMD/hansen/global_forest_change_2022_v1_10')"
   ]
  },
  {
   "cell_type": "code",
   "execution_count": 4,
   "id": "112b735b",
   "metadata": {},
   "outputs": [],
   "source": [
    "# Load library for country boundaries\n",
    "countries = ee.FeatureCollection(\"USDOS/LSIB_SIMPLE/2017\")\n",
    "ireland_geom = countries.filter(ee.Filter.eq('country_na', 'Ireland'))"
   ]
  },
  {
   "cell_type": "code",
   "execution_count": 5,
   "id": "cf88025c",
   "metadata": {},
   "outputs": [],
   "source": [
    "#Load forest loss data\n",
    "tree_loss = gfc_dataset.select('lossyear')\n",
    "tree_loss_ireland = tree_loss.clip(ireland_geom)"
   ]
  },
  {
   "cell_type": "code",
   "execution_count": 6,
   "id": "0063d41e",
   "metadata": {},
   "outputs": [],
   "source": [
    "years = list(range(2001, 2023))\n",
    "yearly_loss = []"
   ]
  },
  {
   "cell_type": "code",
   "execution_count": 7,
   "id": "a280d47b",
   "metadata": {},
   "outputs": [],
   "source": [
    "# Iterate over each year and calculate total forest loss for that year\n",
    "for year in years:\n",
    "    # Get tree loss for each year\n",
    "    loss_for_year = tree_loss_ireland.eq(year - 2000).selfMask()\n",
    "\n",
    "    # Calculate the total loss area for that year in square meters\n",
    "    loss_area = loss_for_year.multiply(ee.Image.pixelArea())  # Convert to area (sq meters)\n",
    "    total_loss_area = loss_area.reduceRegion(\n",
    "        reducer=ee.Reducer.sum(),\n",
    "        geometry=ireland_geom.geometry(),\n",
    "        scale=30,  # Use 30m resolution\n",
    "        maxPixels=1e9\n",
    "    )\n",
    "\n",
    "    # Convert to hectares\n",
    "    total_loss_hectares = total_loss_area.get('lossyear').getInfo() / 10000\n",
    "\n",
    "    # Add to the list\n",
    "    yearly_loss.append(total_loss_hectares)\n",
    "\n",
    "# Create dataframe with yearly loss data\n",
    "df = pd.DataFrame({'Year': years, 'TreeLossHa': yearly_loss})\n",
    "\n",
    "# Save the dataframe to a CSV file\n",
    "df.to_csv('treeLoss.csv', index=False)"
   ]
  }
 ],
 "metadata": {
  "kernelspec": {
   "display_name": "Python 3 (ipykernel)",
   "language": "python",
   "name": "python3"
  },
  "language_info": {
   "codemirror_mode": {
    "name": "ipython",
    "version": 3
   },
   "file_extension": ".py",
   "mimetype": "text/x-python",
   "name": "python",
   "nbconvert_exporter": "python",
   "pygments_lexer": "ipython3",
   "version": "3.11.7"
  }
 },
 "nbformat": 4,
 "nbformat_minor": 5
}
